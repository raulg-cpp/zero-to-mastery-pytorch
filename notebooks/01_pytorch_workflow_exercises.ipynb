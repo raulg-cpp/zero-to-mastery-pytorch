{
 "cells": [
  {
   "cell_type": "markdown",
   "metadata": {
    "colab_type": "text",
    "id": "view-in-github"
   },
   "source": [
    "<a href=\"https://colab.research.google.com/github/mrdbourke/pytorch-deep-learning/blob/main/extras/exercises/01_pytorch_workflow_exercises.ipynb\" target=\"_parent\"><img src=\"https://colab.research.google.com/assets/colab-badge.svg\" alt=\"Open In Colab\"/></a>\n",
    "\n",
    "See: https://www.learnpytorch.io/01_pytorch_workflow/"
   ]
  },
  {
   "cell_type": "markdown",
   "metadata": {
    "id": "N8LsPXZti9Sw"
   },
   "source": [
    "# 01. PyTorch Workflow Exercise Template\n",
    "\n",
    "The following is a template for the PyTorch workflow exercises.\n",
    "\n",
    "It's only starter code and it's your job to fill in the blanks.\n",
    "\n",
    "Because of the flexibility of PyTorch, there may be more than one way to answer the question.\n",
    "\n",
    "Don't worry about trying to be *right* just try writing code that suffices the question.\n",
    "\n",
    "You can see one form of [solutions on GitHub](https://github.com/mrdbourke/pytorch-deep-learning/tree/main/extras/solutions) (but try the exercises below yourself first!)."
   ]
  },
  {
   "cell_type": "code",
   "execution_count": 1,
   "metadata": {
    "id": "Glu2fM4dkNlx"
   },
   "outputs": [
    {
     "data": {
      "text/plain": [
       "'2.3.0+cpu'"
      ]
     },
     "execution_count": 1,
     "metadata": {},
     "output_type": "execute_result"
    }
   ],
   "source": [
    "# Import necessary libraries\n",
    "# Import PyTorch and matplotlib\n",
    "import torch\n",
    "from torch import nn # nn contains all of PyTorch's building blocks for neural networks\n",
    "import matplotlib.pyplot as plt\n",
    "\n",
    "# Check PyTorch version\n",
    "torch.__version__"
   ]
  },
  {
   "cell_type": "code",
   "execution_count": 2,
   "metadata": {
    "id": "LqKhXY26m31s"
   },
   "outputs": [
    {
     "name": "stdout",
     "output_type": "stream",
     "text": [
      "Using device: cpu\n"
     ]
    }
   ],
   "source": [
    "# Setup device agnostic code\n",
    "device = \"cuda\" if torch.cuda.is_available() else \"cpu\"\n",
    "print(f\"Using device: {device}\")"
   ]
  },
  {
   "cell_type": "markdown",
   "metadata": {
    "id": "g7HUhxCxjeBx"
   },
   "source": [
    "## 1. Create a straight line dataset using the linear regression formula (`weight * X + bias`).\n",
    "  * Set `weight=0.3` and `bias=0.9` there should be at least 100 datapoints total. \n",
    "  * Split the data into 80% training, 20% testing.\n",
    "  * Plot the training and testing data so it becomes visual.\n",
    "\n",
    "Your output of the below cell should look something like:\n",
    "```\n",
    "Number of X samples: 100\n",
    "Number of y samples: 100\n",
    "First 10 X & y samples:\n",
    "X: tensor([0.0000, 0.0100, 0.0200, 0.0300, 0.0400, 0.0500, 0.0600, 0.0700, 0.0800,\n",
    "        0.0900])\n",
    "y: tensor([0.9000, 0.9030, 0.9060, 0.9090, 0.9120, 0.9150, 0.9180, 0.9210, 0.9240,\n",
    "        0.9270])\n",
    "```\n",
    "\n",
    "Of course the numbers in `X` and `y` may be different but ideally they're created using the linear regression formula."
   ]
  },
  {
   "cell_type": "code",
   "execution_count": 3,
   "metadata": {
    "id": "KbDG5MV7jhvE"
   },
   "outputs": [
    {
     "name": "stdout",
     "output_type": "stream",
     "text": [
      "Number of X samples: 100\n",
      "Number of y samples: 100\n",
      "First 10 X & y samples:\n",
      "X: tensor([[0.0000],\n",
      "        [0.0100],\n",
      "        [0.0200],\n",
      "        [0.0300],\n",
      "        [0.0400],\n",
      "        [0.0500],\n",
      "        [0.0600],\n",
      "        [0.0700],\n",
      "        [0.0800],\n",
      "        [0.0900]])\n",
      "y: tensor([[0.9000],\n",
      "        [0.9030],\n",
      "        [0.9060],\n",
      "        [0.9090],\n",
      "        [0.9120],\n",
      "        [0.9150],\n",
      "        [0.9180],\n",
      "        [0.9210],\n",
      "        [0.9240],\n",
      "        [0.9270]])\n"
     ]
    }
   ],
   "source": [
    "# 1) Create the data parameters\n",
    "\n",
    "# Create weight and bias\n",
    "weight = 0.3\n",
    "bias = 0.9\n",
    "\n",
    "# Create range values\n",
    "start = 0\n",
    "end = 1\n",
    "datapoints = 100\n",
    "step = (end - start)/datapoints\n",
    "\n",
    "# Create X and y (features and labels)\n",
    "X = torch.arange(start, end, step).unsqueeze(dim=1) # without unsqueeze, errors will happen later on (shapes within linear layers)\n",
    "y = weight*X + bias \n",
    "\n",
    "# Make X and y using linear regression feature\n",
    "\n",
    "\n",
    "print(f\"Number of X samples: {len(X)}\")\n",
    "print(f\"Number of y samples: {len(y)}\")\n",
    "print(f\"First 10 X & y samples:\\nX: {X[:10]}\\ny: {y[:10]}\")"
   ]
  },
  {
   "cell_type": "code",
   "execution_count": 4,
   "metadata": {
    "id": "GlwtT1djkmLw"
   },
   "outputs": [],
   "source": [
    "# 2) Split the data into training and testing\n",
    "train_split = int( datapoints * 0.8 )\n",
    "\n",
    "x_train, y_train = X[:train_split], y[:train_split]\n",
    "\n",
    "x_test, y_test = X[train_split:], y[train_split:]"
   ]
  },
  {
   "cell_type": "code",
   "execution_count": 5,
   "metadata": {
    "id": "29iQZFNhlYJ-"
   },
   "outputs": [
    {
     "data": {
      "text/plain": [
       "<matplotlib.collections.PathCollection at 0x7cb84e35e860>"
      ]
     },
     "execution_count": 5,
     "metadata": {},
     "output_type": "execute_result"
    },
    {
     "data": {
      "image/png": "[encoded data removed]",
      "text/plain": [
       "<Figure size 1000x700 with 1 Axes>"
      ]
     },
     "metadata": {},
     "output_type": "display_data"
    }
   ],
   "source": [
    "# Plot the training and testing data \n",
    "plt.figure(figsize=(10, 7))\n",
    "plt.scatter(x_train, y_train, c=\"b\", s=4, label=\"Testing data\")\n",
    "plt.scatter(x_test, y_test, c=\"r\", s=4, label=\"Testing data\")"
   ]
  },
  {
   "cell_type": "markdown",
   "metadata": {
    "id": "ImZoe3v8jif8"
   },
   "source": [
    "## 2. Build a PyTorch model by subclassing `nn.Module`. \n",
    "  * Inside should be a randomly initialized `nn.Parameter()` with `requires_grad=True`, one for `weights` and one for `bias`. \n",
    "  * Implement the `forward()` method to compute the linear regression function you used to create the dataset in 1. \n",
    "  * Once you've constructed the model, make an instance of it and check its `state_dict()`.\n",
    "  * **Note:** If you'd like to use `nn.Linear()` instead of `nn.Parameter()` you can."
   ]
  },
  {
   "cell_type": "code",
   "execution_count": 6,
   "metadata": {
    "id": "qzd__Y5rjtB8"
   },
   "outputs": [],
   "source": [
    "# Create PyTorch linear regression model by subclassing nn.Module\n",
    "\n",
    "class LinearRegressionModel(nn.Module): \n",
    "    def __init__(self):\n",
    "        super().__init__() \n",
    "        self.weights = nn.Parameter(torch.randn(1, dtype=torch.float), requires_grad=True) \n",
    "        self.bias = nn.Parameter(torch.randn(1, dtype=torch.float), requires_grad=True) \n",
    "\n",
    "    # Forward defines the computation in the model\n",
    "    def forward(self, x: torch.Tensor) -> torch.Tensor: \n",
    "        return self.weights * x + self.bias "
   ]
  },
  {
   "cell_type": "code",
   "execution_count": 7,
   "metadata": {
    "id": "5LdcDnmOmyQ2"
   },
   "outputs": [
    {
     "data": {
      "text/plain": [
       "LinearRegressionModel()"
      ]
     },
     "execution_count": 7,
     "metadata": {},
     "output_type": "execute_result"
    }
   ],
   "source": [
    "# Instantiate the model and put it to the target device\n",
    "model = LinearRegressionModel()\n",
    "model.to(device)"
   ]
  },
  {
   "cell_type": "markdown",
   "metadata": {
    "id": "G6nYOrJhjtfu"
   },
   "source": [
    "## 3. Create a loss function and optimizer using `nn.L1Loss()` and `torch.optim.SGD(params, lr)` respectively. \n",
    "  * Set the learning rate of the optimizer to be 0.01 and the parameters to optimize should be the model parameters from the model you created in 2.\n",
    "  * Write a training loop to perform the appropriate training steps for 300 epochs.\n",
    "  * The training loop should test the model on the test dataset every 20 epochs."
   ]
  },
  {
   "cell_type": "code",
   "execution_count": 8,
   "metadata": {
    "id": "ltvoZ-FWjv1j"
   },
   "outputs": [],
   "source": [
    "# Create the loss function and optimizer\n",
    "loss_function = nn.L1Loss()\n",
    "\n",
    "# Create optimizer\n",
    "learning_rate = 0.01\n",
    "optimizer = torch.optim.SGD(params=model.parameters(), lr=learning_rate)"
   ]
  },
  {
   "cell_type": "code",
   "execution_count": 9,
   "metadata": {
    "id": "xpE83NvNnkdV"
   },
   "outputs": [
    {
     "name": "stdout",
     "output_type": "stream",
     "text": [
      "Epoch: 0 | Train loss: 1.027 | Test loss: 1.119\n",
      "Epoch: 20 | Train loss: 0.796 | Test loss: 0.848\n",
      "Epoch: 40 | Train loss: 0.565 | Test loss: 0.577\n",
      "Epoch: 60 | Train loss: 0.334 | Test loss: 0.307\n",
      "Epoch: 80 | Train loss: 0.102 | Test loss: 0.036\n",
      "Epoch: 100 | Train loss: 0.024 | Test loss: 0.054\n",
      "Epoch: 120 | Train loss: 0.017 | Test loss: 0.039\n",
      "Epoch: 140 | Train loss: 0.010 | Test loss: 0.023\n",
      "Epoch: 160 | Train loss: 0.003 | Test loss: 0.006\n",
      "Epoch: 180 | Train loss: 0.004 | Test loss: 0.011\n",
      "Epoch: 200 | Train loss: 0.004 | Test loss: 0.011\n",
      "Epoch: 220 | Train loss: 0.004 | Test loss: 0.011\n",
      "Epoch: 240 | Train loss: 0.004 | Test loss: 0.011\n",
      "Epoch: 260 | Train loss: 0.004 | Test loss: 0.011\n",
      "Epoch: 280 | Train loss: 0.004 | Test loss: 0.011\n",
      "Epoch: 300 | Train loss: 0.004 | Test loss: 0.011\n",
      "Epoch: 320 | Train loss: 0.004 | Test loss: 0.011\n",
      "Epoch: 340 | Train loss: 0.004 | Test loss: 0.011\n",
      "Epoch: 360 | Train loss: 0.004 | Test loss: 0.011\n",
      "Epoch: 380 | Train loss: 0.004 | Test loss: 0.011\n",
      "Epoch: 400 | Train loss: 0.004 | Test loss: 0.011\n",
      "Epoch: 420 | Train loss: 0.004 | Test loss: 0.011\n",
      "Epoch: 440 | Train loss: 0.004 | Test loss: 0.011\n",
      "Epoch: 460 | Train loss: 0.004 | Test loss: 0.011\n",
      "Epoch: 480 | Train loss: 0.004 | Test loss: 0.011\n",
      "Epoch: 500 | Train loss: 0.004 | Test loss: 0.011\n",
      "Epoch: 520 | Train loss: 0.004 | Test loss: 0.011\n",
      "Epoch: 540 | Train loss: 0.004 | Test loss: 0.011\n",
      "Epoch: 560 | Train loss: 0.004 | Test loss: 0.011\n",
      "Epoch: 580 | Train loss: 0.004 | Test loss: 0.011\n"
     ]
    }
   ],
   "source": [
    "# Training loop\n",
    "\n",
    "# Train model for 300 epochs\n",
    "epochs = 600 \n",
    "\n",
    "# Send data to target device\n",
    "x_train = x_train.to(device)\n",
    "x_test = x_test.to(device)\n",
    "y_train = y_train.to(device)\n",
    "y_test = y_test.to(device)\n",
    "\n",
    "for epoch in range(epochs):\n",
    "    ### Training\n",
    "    \n",
    "    # Put model in train mode\n",
    "    model.train() \n",
    "    \n",
    "    # 1. Forward pass\n",
    "    y_pred = model(x_train)\n",
    "    \n",
    "    # 2. Calculate loss\n",
    "    loss = loss_function(y_pred, y_train)\n",
    "    \n",
    "    # 3. Zero gradients\n",
    "    optimizer.zero_grad()\n",
    "    \n",
    "    # 4. Backpropagation\n",
    "    loss.backward()\n",
    "    \n",
    "    # 5. Step the optimizer\n",
    "    optimizer.step()\n",
    "\n",
    "    # Put model in evaluation mode and setup inference context \n",
    "    model.eval() \n",
    "    \n",
    "    with torch.inference_mode():\n",
    "        # 1. Forward pass\n",
    "        test_pred = model(x_test)\n",
    "        \n",
    "        # 2. Calculate test loss\n",
    "        test_loss = loss_function(test_pred, y_test)\n",
    "\n",
    "        ### Perform testing every 20 epochs\n",
    "        if epoch % 20 == 0:\n",
    "            # Print out what's happening\n",
    "            print(f\"Epoch: {epoch} | Train loss: {loss:.3f} | Test loss: {test_loss:.3f}\")"
   ]
  },
  {
   "cell_type": "markdown",
   "metadata": {
    "id": "x4j4TM18jwa7"
   },
   "source": [
    "## 4. Make predictions with the trained model on the test data.\n",
    "  * Visualize these predictions against the original training and testing data (**note:** you may need to make sure the predictions are *not* on the GPU if you want to use non-CUDA-enabled libraries such as matplotlib to plot)."
   ]
  },
  {
   "cell_type": "code",
   "execution_count": 10,
   "metadata": {
    "id": "bbMPK5Qjjyx_"
   },
   "outputs": [
    {
     "name": "stdout",
     "output_type": "stream",
     "text": [
      "tensor([[1.1375],\n",
      "        [1.1406],\n",
      "        [1.1436],\n",
      "        [1.1466],\n",
      "        [1.1497],\n",
      "        [1.1527],\n",
      "        [1.1557],\n",
      "        [1.1587],\n",
      "        [1.1618],\n",
      "        [1.1648],\n",
      "        [1.1678],\n",
      "        [1.1709],\n",
      "        [1.1739],\n",
      "        [1.1769],\n",
      "        [1.1800],\n",
      "        [1.1830],\n",
      "        [1.1860],\n",
      "        [1.1891],\n",
      "        [1.1921],\n",
      "        [1.1951]])\n"
     ]
    }
   ],
   "source": [
    "# Make predictions with the model\n",
    "\n",
    "# place model in evaluate mode\n",
    "model.eval()\n",
    "\n",
    "# move to device\n",
    "x_test = x_test.to(device)\n",
    "\n",
    "# evaluate\n",
    "with torch.inference_mode():\n",
    "  y_predict = model(x_test)\n",
    "\n",
    "print(y_predict)"
   ]
  },
  {
   "cell_type": "code",
   "execution_count": 11,
   "metadata": {
    "id": "K3BdmQaDpFo8"
   },
   "outputs": [
    {
     "data": {
      "text/plain": [
       "<matplotlib.collections.PathCollection at 0x7cb84a18a560>"
      ]
     },
     "execution_count": 11,
     "metadata": {},
     "output_type": "execute_result"
    },
    {
     "data": {
      "image/png": "[encoded data removed]",
      "text/plain": [
       "<Figure size 1000x700 with 1 Axes>"
      ]
     },
     "metadata": {},
     "output_type": "display_data"
    }
   ],
   "source": [
    "# Plot the predictions (these may need to be on a specific device)\n",
    "plt.figure(figsize=(10, 7))\n",
    "plt.scatter(x_train, y_train, c=\"b\", s=4, label=\"Testing data\")\n",
    "plt.scatter(x_test, y_predict, c=\"r\", s=4, label=\"Testing data\")"
   ]
  },
  {
   "cell_type": "markdown",
   "metadata": {
    "id": "s2OnlMWKjzX8"
   },
   "source": [
    "## 5. Save your trained model's `state_dict()` to file.\n",
    "  * Create a new instance of your model class you made in 2. and load in the `state_dict()` you just saved to it.\n",
    "  * Perform predictions on your test data with the loaded model and confirm they match the original model predictions from 4."
   ]
  },
  {
   "cell_type": "code",
   "execution_count": 12,
   "metadata": {
    "id": "hgxhgD14qr-i"
   },
   "outputs": [
    {
     "name": "stdout",
     "output_type": "stream",
     "text": [
      "Saving model to: models/workflow_exercise_1.pth\n"
     ]
    }
   ],
   "source": [
    "from pathlib import Path\n",
    "\n",
    "# 1. Create models directory\n",
    "MODEL_PATH = Path(\"models\")\n",
    "MODEL_PATH.mkdir(parents=True, exist_ok=True)\n",
    "\n",
    "# 2. Create model save path \n",
    "MODEL_NAME = \"workflow_exercise_1.pth\"\n",
    "MODEL_SAVE_PATH = MODEL_PATH / MODEL_NAME # note use of division operator, overriden use for Path type\n",
    "\n",
    "# 3. Save the model state dict\n",
    "print(f\"Saving model to: {MODEL_SAVE_PATH}\")\n",
    "torch.save(obj=model.state_dict(), f=MODEL_SAVE_PATH) "
   ]
  },
  {
   "cell_type": "code",
   "execution_count": 13,
   "metadata": {
    "id": "P9vTgiLRrJ7T"
   },
   "outputs": [
    {
     "data": {
      "text/plain": [
       "<All keys matched successfully>"
      ]
     },
     "execution_count": 13,
     "metadata": {},
     "output_type": "execute_result"
    }
   ],
   "source": [
    "# Create new instance of model and load saved state dict (make sure to put it on the target device)\n",
    "loaded_model = LinearRegressionModel()\n",
    "\n",
    "loaded_model.load_state_dict( torch.load(f=MODEL_SAVE_PATH) )"
   ]
  },
  {
   "cell_type": "code",
   "execution_count": 14,
   "metadata": {
    "id": "8UGX3VebrVtI"
   },
   "outputs": [
    {
     "name": "stdout",
     "output_type": "stream",
     "text": [
      "tensor([[1.1375],\n",
      "        [1.1406],\n",
      "        [1.1436],\n",
      "        [1.1466],\n",
      "        [1.1497],\n",
      "        [1.1527],\n",
      "        [1.1557],\n",
      "        [1.1587],\n",
      "        [1.1618],\n",
      "        [1.1648],\n",
      "        [1.1678],\n",
      "        [1.1709],\n",
      "        [1.1739],\n",
      "        [1.1769],\n",
      "        [1.1800],\n",
      "        [1.1830],\n",
      "        [1.1860],\n",
      "        [1.1891],\n",
      "        [1.1921],\n",
      "        [1.1951]])\n"
     ]
    }
   ],
   "source": [
    "# Make predictions with loaded model and compare them to the previous\n",
    "loaded_model.eval()\n",
    "\n",
    "with torch.inference_mode():\n",
    "    loaded_model_prediction = loaded_model(x_test)\n",
    "\n",
    "print(loaded_model_prediction)"
   ]
  },
  {
   "cell_type": "code",
   "execution_count": null,
   "metadata": {},
   "outputs": [],
   "source": []
  }
 ],
 "metadata": {
  "accelerator": "GPU",
  "colab": {
   "authorship_tag": "ABX9TyNYzatJtFkfUqqdiR6rYwVL",
   "collapsed_sections": [],
   "include_colab_link": true,
   "name": "01_pytorch_workflow_exercises.ipynb",
   "provenance": []
  },
  "kernelspec": {
   "display_name": "Python 3 (ipykernel)",
   "language": "python",
   "name": "python3"
  },
  "language_info": {
   "codemirror_mode": {
    "name": "ipython",
    "version": 3
   },
   "file_extension": ".py",
   "mimetype": "text/x-python",
   "name": "python",
   "nbconvert_exporter": "python",
   "pygments_lexer": "ipython3",
   "version": "3.10.12"
  }
 },
 "nbformat": 4,
 "nbformat_minor": 4
}
